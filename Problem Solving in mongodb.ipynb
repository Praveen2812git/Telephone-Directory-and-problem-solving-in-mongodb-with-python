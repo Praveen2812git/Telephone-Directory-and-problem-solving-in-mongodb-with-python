{
 "cells": [
  {
   "cell_type": "markdown",
   "metadata": {},
   "source": [
    "## Installation"
   ]
  },
  {
   "cell_type": "code",
   "execution_count": 1,
   "metadata": {},
   "outputs": [
    {
     "name": "stdout",
     "output_type": "stream",
     "text": [
      "Requirement already satisfied: pymongo in c:\\users\\praveen\\anaconda3\\lib\\site-packages (4.3.2)\n",
      "Requirement already satisfied: dnspython<3.0.0,>=1.16.0 in c:\\users\\praveen\\anaconda3\\lib\\site-packages (from pymongo) (2.2.1)\n",
      "Note: you may need to restart the kernel to use updated packages.\n"
     ]
    }
   ],
   "source": [
    "pip install pymongo"
   ]
  },
  {
   "cell_type": "markdown",
   "metadata": {},
   "source": [
    "## Imports"
   ]
  },
  {
   "cell_type": "code",
   "execution_count": 2,
   "metadata": {},
   "outputs": [],
   "source": [
    "import json\n",
    "import pymongo"
   ]
  },
  {
   "cell_type": "markdown",
   "metadata": {},
   "source": [
    "## Opening json file"
   ]
  },
  {
   "cell_type": "code",
   "execution_count": 3,
   "metadata": {},
   "outputs": [],
   "source": [
    "f = open('C:/Users/Praveen/Desktop/students.json')\n",
    "data = json.load(f)"
   ]
  },
  {
   "cell_type": "markdown",
   "metadata": {},
   "source": [
    "## Connecting to MongoDB with pymongo"
   ]
  },
  {
   "cell_type": "code",
   "execution_count": 4,
   "metadata": {},
   "outputs": [],
   "source": [
    "client = pymongo.MongoClient('mongodb://127.0.0.1:27017/')"
   ]
  },
  {
   "cell_type": "code",
   "execution_count": 5,
   "metadata": {},
   "outputs": [],
   "source": [
    "mydb = client['student_db_and_collection']"
   ]
  },
  {
   "cell_type": "markdown",
   "metadata": {},
   "source": [
    "## Collection - Full data"
   ]
  },
  {
   "cell_type": "code",
   "execution_count": 6,
   "metadata": {},
   "outputs": [],
   "source": [
    "collection = mydb.full_data"
   ]
  },
  {
   "cell_type": "markdown",
   "metadata": {},
   "source": [
    "## Uploading json file data to collection - full data"
   ]
  },
  {
   "cell_type": "code",
   "execution_count": 7,
   "metadata": {},
   "outputs": [],
   "source": [
    "if isinstance(data,list):\n",
    "    collection.insert_many(data)\n",
    "else:\n",
    "    collection.insert_one(data)"
   ]
  },
  {
   "cell_type": "markdown",
   "metadata": {},
   "source": [
    "## Collection for question 1 to question 7"
   ]
  },
  {
   "cell_type": "code",
   "execution_count": 9,
   "metadata": {},
   "outputs": [],
   "source": [
    "collection1 = mydb.q1\n",
    "collection2 = mydb.q2\n",
    "collection3 = mydb.q3\n",
    "collection41 = mydb.q4c1\n",
    "collection42 = mydb.q4c2\n",
    "collection5 = mydb.q5\n",
    "collection6 = mydb.q6\n",
    "collection7 = mydb.q7"
   ]
  },
  {
   "cell_type": "markdown",
   "metadata": {},
   "source": [
    "### Question 1"
   ]
  },
  {
   "cell_type": "markdown",
   "metadata": {},
   "source": [
    "### 1) Find the student name who scored maximum scores in all (exam, quiz and homework)?"
   ]
  },
  {
   "cell_type": "code",
   "execution_count": 10,
   "metadata": {},
   "outputs": [],
   "source": [
    "for i in collection.aggregate([{'$project' : {'name' : 1, 'Maximumofscores' : {'$max' : '$scores.score'}}},\n",
    "                               {'$sort' : {'Maximumofscores' : -1}},\n",
    "                               {'$limit' : 1}]) :\n",
    "    collection1.insert_one(i)"
   ]
  },
  {
   "cell_type": "markdown",
   "metadata": {},
   "source": [
    "### Question 2"
   ]
  },
  {
   "cell_type": "markdown",
   "metadata": {},
   "source": [
    "### 2) Find students who scored below average in the exam and pass mark is 40%?\n"
   ]
  },
  {
   "cell_type": "code",
   "execution_count": 11,
   "metadata": {
    "scrolled": true
   },
   "outputs": [],
   "source": [
    "for i in collection.aggregate([{'$unwind' : '$scores'},\n",
    "                               \n",
    "                               {'$match': { 'scores.type': 'exam'}},\n",
    "                               \n",
    "                               {'$group': { '_id': 'null', 'avg_exam': { '$avg': '$scores.score'},\n",
    "                               'examscorebelowaverageandabove40' : {'$addToSet' : {'_id' : '$_id', 'name' : '$name', 'examscore' :'$scores.score'}}}},\n",
    "                               \n",
    "                               {'$project' : {'_id' : 0,\n",
    "                                            'examscore' : {\n",
    "                                                         '$filter' : {\n",
    "                                                          'input' : \"$examscore\",\n",
    "                                                          'as' : \"examscores\",\n",
    "                                                          'cond' : {\n",
    "                                                                '$lt' : [\"$$examscores.score\", \"$avg_exam\"] }}}}},\n",
    "                               {'$unwind' : '$examscore'},\n",
    "                               {'$match' : {'examscore.score' : {'$gt' : 40}}}\n",
    "                              ]):\n",
    "    collection2.insert_one(i)"
   ]
  },
  {
   "cell_type": "markdown",
   "metadata": {},
   "source": [
    "## Question 3"
   ]
  },
  {
   "cell_type": "markdown",
   "metadata": {},
   "source": [
    "### 3) Find students who scored below pass mark and assign them as fail, and above pass mark as pass in all the categories."
   ]
  },
  {
   "cell_type": "code",
   "execution_count": 12,
   "metadata": {},
   "outputs": [],
   "source": [
    "for i in collection.aggregate([{'$project' : {'name' : 1, 'examcolumn' : {'$slice' : ['$scores', 1]},\n",
    "                                              'quizcolumn' : {'$slice' : ['$scores', 1, 1]},\n",
    "                                              'homeworkcolumn' : {'$slice' : ['$scores', 2, 1]}}},\n",
    "                               {'$project' : {'name' : 1, 'examscore' : {'$min' : '$examcolumn.score'},\n",
    "                                              'quizscore' : {'$min' : '$quizcolumn.score'},\n",
    "                                              'homeworkscore' : {'$min' : '$homeworkcolumn.score'}}},\n",
    "                               {'$project' : {'name' : 1, 'Examresult' : {'$cond' : [{'$gt': ['$examscore', 40]}, 'Pass', 'Fail']},\n",
    "                                                          'Quizresult' : {'$cond' : [{'$gt': ['$quizscore', 40]}, 'Pass', 'Fail']},\n",
    "                                                          'Homeworkresult' : {'$cond' : [{'$gt': ['$homeworkscore', 40]}, 'Pass', 'Fail']}}}\n",
    "                              ]):\n",
    "    collection3.insert_one(i)"
   ]
  },
  {
   "cell_type": "markdown",
   "metadata": {},
   "source": [
    "## Question 4"
   ]
  },
  {
   "cell_type": "markdown",
   "metadata": {},
   "source": [
    "### 4)       Find the total and average of the exam, quiz and homework and store them in a separate collection."
   ]
  },
  {
   "cell_type": "code",
   "execution_count": 13,
   "metadata": {},
   "outputs": [],
   "source": [
    "for i in collection.aggregate([{'$project' : {'name' : 1, 'examcolumn' : {'$slice' : ['$scores', 1]},\n",
    "                                              'quizcolumn' : {'$slice' : ['$scores', 1, 1]},\n",
    "                                              'homeworkcolumn' : {'$slice' : ['$scores', 2, 1]}}},\n",
    "                               {'$project' : {'name' : 1, 'examscore' : {'$min' : '$examcolumn.score'},\n",
    "                                              'quizscore' : {'$min' : '$quizcolumn.score'},\n",
    "                                              'homeworkscore' : {'$min' : '$homeworkcolumn.score'}}},\n",
    "                               {'$group' : {'_id' : 'null', 'sumexam' : {'$sum' : '$examscore'}, \n",
    "                                           'sumquiz' : {'$sum' : '$quizscore'}, 'sumhomework' : {'$sum' : '$homeworkscore'}}},\n",
    "                               {'$project' : {'_id' : 0, 'totalofexam' : '$sumexam', 'totalofquiz' : '$sumquiz',\n",
    "                                             'totalofhomework' : '$sumhomework'}}\n",
    "                               ]):\n",
    "    collection41.insert_one(i)\n",
    "\n",
    "for i in collection.aggregate([{'$project' : {'name' : 1, 'examcolumn' : {'$slice' : ['$scores', 1]},\n",
    "                                              'quizcolumn' : {'$slice' : ['$scores', 1, 1]},\n",
    "                                              'homeworkcolumn' : {'$slice' : ['$scores', 2, 1]}}},\n",
    "                               {'$project' : {'name' : 1, 'examscore' : {'$min' : '$examcolumn.score'},\n",
    "                                              'quizscore' : {'$min' : '$quizcolumn.score'},\n",
    "                                              'homeworkscore' : {'$min' : '$homeworkcolumn.score'}}},\n",
    "                               {'$group' : {'_id' : 'null', 'avgexam' : {'$avg' : '$examscore'}, \n",
    "                                           'avgquiz' : {'$avg' : '$quizscore'}, 'avghomework' : {'$avg' : '$homeworkscore'}}},\n",
    "                               {'$project' : {'_id' : 0, 'averageofexam' : '$avgexam', 'averageofquiz' : '$avgquiz',\n",
    "                                             'averageofhomework' : '$avghomework'}}\n",
    "                               ]):\n",
    "    collection42.insert_one(i)"
   ]
  },
  {
   "cell_type": "markdown",
   "metadata": {},
   "source": [
    "## Question 5"
   ]
  },
  {
   "cell_type": "markdown",
   "metadata": {},
   "source": [
    "### 5) Create a new collection which consists of students who scored below average in all the categories."
   ]
  },
  {
   "cell_type": "code",
   "execution_count": 14,
   "metadata": {},
   "outputs": [],
   "source": [
    "for i in collection.aggregate([{'$project' : {'name' : 1, 'examcolumn' : {'$slice' : ['$scores', 1]},\n",
    "                                              'quizcolumn' : {'$slice' : ['$scores', 1, 1]},\n",
    "                                              'homeworkcolumn' : {'$slice' : ['$scores', 2, 1]}}},\n",
    "                               {'$project' : {'name' : 1, 'examscore' : {'$min' : '$examcolumn.score'},\n",
    "                                              'quizscore' : {'$min' : '$quizcolumn.score'},\n",
    "                                              'homeworkscore' : {'$min' : '$homeworkcolumn.score'}}},\n",
    "                               {'$group' : {'_id' : 'null', 'avgexam' : {'$avg' : '$examscore'}, \n",
    "                                           'avgquiz' : {'$avg' : '$quizscore'}, 'avghomework' : {'$avg' : '$homeworkscore'},\n",
    "                                           'allscore' : {'$addToSet' : {'_id' : '$_id', 'name' : '$name', 'examscore' :'$examscore',\n",
    "                                                                       'quizscore' : '$quizscore', 'homeworkscore' : '$homeworkscore'}}}},\n",
    "                               {'$project' : {'_id' : 0, 'avgquiz' : '$avgquiz', 'avghomework' : '$avghomework',\n",
    "                                            'allscore' : {\n",
    "                                                         '$filter' : {\n",
    "                                                          'input' : \"$allscore\",\n",
    "                                                          'as' : \"allscores\",\n",
    "                                                          'cond' :{'$lt' : [\"$$allscores.examscore\", \"$avgexam\"]\n",
    "                                                           }}}}},\n",
    "                               {'$project' : {'_id' : 0, 'avghomework' : '$avghomework',\n",
    "                                            'allscore' : {\n",
    "                                                         '$filter' : {\n",
    "                                                          'input' : \"$allscore\",\n",
    "                                                          'as' : \"allscores\",\n",
    "                                                          'cond' :{'$lt' : [\"$$allscores.quizscore\", \"$avgquiz\"]\n",
    "                                                           }}}}},\n",
    "                               {'$project' : {'_id' : 0,\n",
    "                                            'allscoresbelowaverage' : {\n",
    "                                                         '$filter' : {\n",
    "                                                          'input' : \"$allscore\",\n",
    "                                                          'as' : \"allscores\",\n",
    "                                                          'cond' :{'$lt' : [\"$$allscores.homeworkscore\", \"$avghomework\"]\n",
    "                                                           }}}}}\n",
    "                               ]):\n",
    "    collection5.insert_one(i)"
   ]
  },
  {
   "cell_type": "markdown",
   "metadata": {},
   "source": [
    "## Question 6"
   ]
  },
  {
   "cell_type": "markdown",
   "metadata": {},
   "source": [
    "### 6) Create a new collection which consists of students who scored below the fail mark in all the categories."
   ]
  },
  {
   "cell_type": "code",
   "execution_count": 15,
   "metadata": {},
   "outputs": [],
   "source": [
    "for i in collection.aggregate([{'$project' : {'name' : 1, 'examcolumn' : {'$slice' : ['$scores', 1]},\n",
    "                                              'quizcolumn' : {'$slice' : ['$scores', 1, 1]},\n",
    "                                              'homeworkcolumn' : {'$slice' : ['$scores', 2, 1]}}},\n",
    "                               {'$project' : {'name' : 1, 'examscore' : {'$min' : '$examcolumn.score'},\n",
    "                                              'quizscore' : {'$min' : '$quizcolumn.score'},\n",
    "                                              'homeworkscore' : {'$min' : '$homeworkcolumn.score'}}},\n",
    "                               {'$project' : {'name' : 1, 'examscore' : 1, 'quizscore' : 1, 'homeworkscore' : 1,\n",
    "                                                          'Examresult' : {'$cond' : [{'$gt': ['$examscore', 40]}, 1, 0]},\n",
    "                                                          'Quizresult' : {'$cond' : [{'$gt': ['$quizscore', 40]}, 1, 0]},\n",
    "                                                          'Homeworkresult' : {'$cond' : [{'$gt': ['$homeworkscore', 40]}, 1, 0]}}},\n",
    "                               {'$project' : {'name' : 1, 'examscore' : 1, 'quizscore' : 1, 'homeworkscore' : 1,\n",
    "                                              'Sumofresult' : {'$sum' : ['$Examresult', '$Quizresult', '$Homeworkresult']}}},\n",
    "                               {'$project' : {'name' : {'$cond' : [{'$eq': ['$Sumofresult', 0]}, '$name',0]},\n",
    "                                             'examscore' : 1, 'quizscore' : 1, 'homeworkscore' : 1}},\n",
    "                               {'$match' : {'name' : {'$ne': 0}}}\n",
    "                              ]):\n",
    "    collection6.insert_one(i)"
   ]
  },
  {
   "cell_type": "markdown",
   "metadata": {},
   "source": [
    "## Question 7"
   ]
  },
  {
   "cell_type": "markdown",
   "metadata": {},
   "source": [
    "### 7) Create a new collection which consists of students who scored above pass mark in all the categories."
   ]
  },
  {
   "cell_type": "code",
   "execution_count": 16,
   "metadata": {},
   "outputs": [],
   "source": [
    "for i in collection.aggregate([{'$project' : {'name' : 1, 'examcolumn' : {'$slice' : ['$scores', 1]},\n",
    "                                              'quizcolumn' : {'$slice' : ['$scores', 1, 1]},\n",
    "                                              'homeworkcolumn' : {'$slice' : ['$scores', 2, 1]}}},\n",
    "                               {'$project' : {'name' : 1, 'examscore' : {'$min' : '$examcolumn.score'},\n",
    "                                              'quizscore' : {'$min' : '$quizcolumn.score'},\n",
    "                                              'homeworkscore' : {'$min' : '$homeworkcolumn.score'}}},\n",
    "                               {'$project' : {'name' : 1, 'examscore' : 1, 'quizscore' : 1, 'homeworkscore' : 1,\n",
    "                                                          'Examresult' : {'$cond' : [{'$gt': ['$examscore', 40]}, 1, 0]},\n",
    "                                                          'Quizresult' : {'$cond' : [{'$gt': ['$quizscore', 40]}, 1, 0]},\n",
    "                                                          'Homeworkresult' : {'$cond' : [{'$gt': ['$homeworkscore', 40]}, 1, 0]}}},\n",
    "                               {'$project' : {'name' : 1, 'examscore' : 1, 'quizscore' : 1, 'homeworkscore' : 1,\n",
    "                                              'Sumofresult' : {'$sum' : ['$Examresult', '$Quizresult', '$Homeworkresult']}}},\n",
    "                               {'$project' : {'name' : {'$cond' : [{'$eq': ['$Sumofresult', 3]}, '$name',0]},\n",
    "                                             'examscore' : 1, 'quizscore' : 1, 'homeworkscore' : 1}},\n",
    "                               {'$match' : {'name' : {'$ne': 0}}}\n",
    "                              ]):\n",
    "    collection7.insert_one(i)"
   ]
  }
 ],
 "metadata": {
  "kernelspec": {
   "display_name": "Python 3",
   "language": "python",
   "name": "python3"
  },
  "language_info": {
   "codemirror_mode": {
    "name": "ipython",
    "version": 3
   },
   "file_extension": ".py",
   "mimetype": "text/x-python",
   "name": "python",
   "nbconvert_exporter": "python",
   "pygments_lexer": "ipython3",
   "version": "3.7.3"
  }
 },
 "nbformat": 4,
 "nbformat_minor": 2
}
